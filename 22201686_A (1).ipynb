{
  "nbformat": 4,
  "nbformat_minor": 0,
  "metadata": {
    "colab": {
      "provenance": []
    },
    "kernelspec": {
      "name": "python3",
      "display_name": "Python 3"
    },
    "language_info": {
      "name": "python"
    }
  },
  "cells": [
    {
      "cell_type": "code",
      "source": [
        "def pattern2(n):\n",
        "\n",
        "  if n<=0:\n",
        "    print(n,end=\" \")\n",
        "    return\n",
        "  print(n, end=\" \")\n",
        "  pattern2(n - 5)\n",
        "  print(n, end=\" \")\n",
        "\n",
        "def pattern(n,space=1):\n",
        "  if n <=0:\n",
        "    return\n",
        "\n",
        "  pattern2(n)\n",
        "\n",
        "  print(space*\"      \",end=\"\\n\")\n",
        "  print(space*\" \",end=\" \")\n",
        "  pattern(n-5,space+1)\n",
        "\n",
        "\n",
        "pattern(16)\n",
        "print(\"===================================\")\n",
        "pattern(10)"
      ],
      "metadata": {
        "colab": {
          "base_uri": "https://localhost:8080/"
        },
        "id": "VxYmsVpiryeu",
        "outputId": "b2d6cdd7-94c2-4505-f1ad-2459649e71c9"
      },
      "execution_count": 33,
      "outputs": [
        {
          "output_type": "stream",
          "name": "stdout",
          "text": [
            "16 11 6 1 -4 1 6 11 16       \n",
            "  11 6 1 -4 1 6 11             \n",
            "   6 1 -4 1 6                   \n",
            "    1 -4 1                         \n",
            "     ===================================\n",
            "10 5 0 5 10       \n",
            "  5 0 5             \n",
            "   "
          ]
        }
      ]
    }
  ]
}