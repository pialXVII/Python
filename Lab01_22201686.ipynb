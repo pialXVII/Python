{
  "nbformat": 4,
  "nbformat_minor": 0,
  "metadata": {
    "colab": {
      "provenance": [],
      "include_colab_link": true
    },
    "kernelspec": {
      "name": "python3",
      "display_name": "Python 3"
    },
    "language_info": {
      "name": "python"
    }
  },
  "cells": [
    {
      "cell_type": "markdown",
      "metadata": {
        "id": "view-in-github",
        "colab_type": "text"
      },
      "source": [
        "<a href=\"https://colab.research.google.com/github/pialXVII/Python/blob/CSE220-DSA/Lab01_22201686.ipynb\" target=\"_parent\"><img src=\"https://colab.research.google.com/assets/colab-badge.svg\" alt=\"Open In Colab\"/></a>"
      ]
    },
    {
      "cell_type": "code",
      "source": [
        "import numpy as np"
      ],
      "metadata": {
        "id": "pi_n0okZ1v_O"
      },
      "execution_count": null,
      "outputs": []
    },
    {
      "cell_type": "code",
      "source": [],
      "metadata": {
        "id": "4wWhDWn3CvYM"
      },
      "execution_count": null,
      "outputs": []
    },
    {
      "cell_type": "markdown",
      "source": [
        "**Instructions to Follow (Failing to follow these will result mark deductions).**\n",
        "\n",
        "\n",
        "1.   You can not use any built-in function except len()\n",
        "2.   You can not use any other python collections except array (e.g: tuptle, dictionaries etc.).\n",
        "3. We will initialize a new array using numpy library. We have to mention the fixed size during initialization. There might be two approach.\n",
        "\n",
        "  i. arr = np.array([None] * 10) #Initializing an array length 10 with values None.\n",
        "\n",
        "  ii. arr = np.array([10, 20, 30, 40]) #Initializing an array length 4 with the values.\n",
        "4. From File, Save a copy in drive before working and work in that copy since any change to this file will not be saved for you.\n",
        "\n",
        "\n",
        "\n",
        "\n"
      ],
      "metadata": {
        "id": "lJl5kEU9s6VF"
      }
    },
    {
      "cell_type": "markdown",
      "source": [
        "You will see the status Accepted after completion if your code is correct.\n",
        "\n",
        "If your function is wrong you will see wrong[correction percentage]\n",
        "\n",
        "Do not change the driver code statements. You can only change the input values to test your code."
      ],
      "metadata": {
        "id": "rFXn6m1mbHYC"
      }
    },
    {
      "cell_type": "code",
      "source": [
        "# Test 01: Play Right\n",
        "import numpy as np\n",
        "def playRight(sequence, beats):\n",
        "  for i in range(len(beats)):\n",
        "    if beats[i] != 0:\n",
        "      sequence= right_rotate(sequence)\n",
        "  return sequence\n",
        "\n",
        "def right_rotate(arr):\n",
        "\n",
        "  temp = arr[len(arr)-1]\n",
        "  for i in range(len(arr)-2 ,-1 ,-1):\n",
        "    arr[i+1]= arr[i]\n",
        "  arr[0]=temp\n",
        "  return arr\n",
        "\n",
        "\n",
        "print(\"///  Test 01: Play Right  ///\")\n",
        "sequence = np.array([10, 20, 30, 40, 50, 60])\n",
        "beats = np.array([1, 0, 0, 1, 0, 1])\n",
        "returned_value = playRight(sequence, beats)\n",
        "print(f'Task 1: {returned_value}')  # This should print [40, 50, 60, 10, 20, 30]"
      ],
      "metadata": {
        "id": "hzdDNKdRahbQ",
        "colab": {
          "base_uri": "https://localhost:8080/"
        },
        "outputId": "c106c6d9-a15d-4325-8a46-cc014c1ad2ce"
      },
      "execution_count": null,
      "outputs": [
        {
          "output_type": "stream",
          "name": "stdout",
          "text": [
            "///  Test 01: Play Right  ///\n",
            "Task 1: [40 50 60 10 20 30]\n"
          ]
        }
      ]
    },
    {
      "cell_type": "code",
      "source": [
        "# Test 02: Discard Cards\n",
        "import numpy as np\n",
        "def discardCards(cards,number):\n",
        "  for i in range (len(cards)):\n",
        "\n",
        "    while cards[i] == number:\n",
        "      cards = left_shift(cards,i)\n",
        "\n",
        "  return cards\n",
        "\n",
        "def left_shift(arr,n):\n",
        "  for i in range(n,len(arr)-1,1):\n",
        "    arr[i] = arr[i+1]\n",
        "  arr[len(arr)-1] = 0\n",
        "\n",
        "\n",
        "  return arr\n",
        "# def discardCards(cards,number):\n",
        "#   arr= np.zeros(len(cards),dtype=int)\n",
        "#   n= 0\n",
        "#   for i in range(len(cards)):\n",
        "#     if cards[i] != number:\n",
        "#       arr[n]= cards[i]\n",
        "#       n+=1\n",
        "#   return arr\n",
        "\n",
        "\n",
        "\n",
        "\n",
        "print(\"///  Test 02: Discard Cards  ///\")\n",
        "cards = np.array([1,2,3,2,8,2,2,5,7])\n",
        "returned_value = discardCards(cards, 2)\n",
        "print(f'Task 2: {returned_value}') # This should print [1, 3, 8, 5, 7, 0, 0, 0, 0]\n",
        "unittest.output_test(returned_value, np.array([1, 3, 8, 5, 7, 0, 0, 0, 0]))"
      ],
      "metadata": {
        "id": "Ag1wNuXgaoh4",
        "colab": {
          "base_uri": "https://localhost:8080/"
        },
        "outputId": "1e470871-9891-427a-9708-7fe9853b7ec5"
      },
      "execution_count": null,
      "outputs": [
        {
          "output_type": "stream",
          "name": "stdout",
          "text": [
            "///  Test 02: Discard Cards  ///\n",
            "Task 2: [1 3 8 5 7 0 0 0 0]\n",
            "Accepted\n"
          ]
        }
      ]
    },
    {
      "cell_type": "code",
      "source": [
        "#Test 03: Merge Lineup\n",
        "import numpy as np\n",
        "def mergeLineup(pokemon_1, pokemon_2):\n",
        "  result = [None]*len(pokemon_1) #this array stores the resulting array\n",
        "  # TO DO\n",
        "\n",
        "  for i in range(len(pokemon_1)):\n",
        "    if pokemon_1[i] == None:\n",
        "      pokemon_1[i]=0\n",
        "    if pokemon_2[i] == None:\n",
        "      pokemon_2[i]=0\n",
        "\n",
        "  for i in range(len(pokemon_1)):\n",
        "      result[i]= pokemon_1[i] + pokemon_2[len(pokemon_1)-1-i]\n",
        "  return np.array(result)\n",
        "\n",
        "\n",
        "\n",
        "print(\"///  Test 03: Merge Lineup  ///\")\n",
        "pokemon_1 = np.array([12, 3, 25, 1, None])\n",
        "pokemon_2 = np.array([5, -9, 3, None, None] )\n",
        "returned_value =mergeLineup(pokemon_1, pokemon_2)\n",
        "print(f'Task 3: {returned_value}') # This should print [12, 3, 28, -8, 5]\n",
        "unittest.output_test(returned_value, np.array([12, 3, 28, -8, 5]))\n",
        "\n",
        "pokemon_1 = np.array([4, 5, -1, None, None])\n",
        "pokemon_2 = np.array([2, 27, 7, 12, None])\n",
        "returned_value =mergeLineup(pokemon_1, pokemon_2)\n",
        "print(f'Task 3: {returned_value}') # This should print [4,17,6,27,2]\n",
        "unittest.output_test(returned_value, np.array([4,17,6,27,2]))"
      ],
      "metadata": {
        "id": "Ene8Dp4vasuN",
        "colab": {
          "base_uri": "https://localhost:8080/"
        },
        "outputId": "99fcc000-98ed-4af0-bba0-d3a562694c65"
      },
      "execution_count": null,
      "outputs": [
        {
          "output_type": "stream",
          "name": "stdout",
          "text": [
            "///  Test 03: Merge Lineup  ///\n",
            "Task 3: [12  3 28 -8  5]\n",
            "Accepted\n",
            "Task 3: [ 4 17  6 27  2]\n",
            "Accepted\n"
          ]
        }
      ]
    },
    {
      "cell_type": "code",
      "source": [
        "# Test 04: Balance your Salami\n",
        "\n",
        "import numpy as np\n",
        "def balanceSalami(salami):\n",
        "  sum1=0\n",
        "  sum2=0\n",
        "  for i in range (0,len(salami),1):\n",
        "    sum1+= salami[i]\n",
        "    for j in range(i+1,len(salami),1):\n",
        "      sum2 += salami[j]\n",
        "    if sum1 == sum2 :\n",
        "      return True\n",
        "    else:\n",
        "      sum2 = 0\n",
        "  return False\n",
        "\n",
        "print(\"///  Test 04: Balance Your Salami  ///\")\n",
        "salami = np.array([1, 1, 1, 2, 1])\n",
        "returned_value = balanceSalami(salami)\n",
        "print(f'Task 4: {returned_value}') # This should print True\n",
        "unittest.output_test(returned_value, True)\n",
        "\n",
        "salami = [2, 1, 1, 2, 1]\n",
        "returned_value = np.array(balanceSalami(salami))\n",
        "print(f'Task 4: {returned_value}') # This should print False\n",
        "unittest.output_test(returned_value, False)\n",
        "\n",
        "salami = [10, 3, 1, 2, 10]\n",
        "returned_value =  np.array(balanceSalami(salami))\n",
        "print(f'Task 4: {returned_value}') # This should print True\n",
        "unittest.output_test(returned_value, True)"
      ],
      "metadata": {
        "id": "ox9p5qL7axD8",
        "colab": {
          "base_uri": "https://localhost:8080/"
        },
        "outputId": "f2e7d37f-b0a8-41e3-b0a2-e5a487529d20"
      },
      "execution_count": null,
      "outputs": [
        {
          "output_type": "stream",
          "name": "stdout",
          "text": [
            "///  Test 04: Balance Your Salami  ///\n",
            "Task 4: True\n",
            "Accepted\n",
            "Task 4: False\n",
            "Accepted\n",
            "Task 4: True\n",
            "Accepted\n"
          ]
        }
      ]
    },
    {
      "cell_type": "code",
      "source": [
        "# Test 05: Protecc Salami\n",
        "import numpy as np\n",
        "def protectSalami(salami):\n",
        "  arr= np.zeros(len(salami),dtype=int)\n",
        "  for i in range(len(salami)):\n",
        "    elem = salami[i]\n",
        "    for j in range(i,len(arr),1):\n",
        "      if elem == salami[j] and elem!= -1:\n",
        "        arr[i]+= 1\n",
        "        salami[j] = -1\n",
        "\n",
        "  for i in range(len(arr)):\n",
        "    for j in range(i+1,len(arr),1):\n",
        "      if arr[i] !=0 and arr[i] > 1 :\n",
        "\n",
        "        if arr[i] == arr[j]:\n",
        "\n",
        "          return True\n",
        "\n",
        "\n",
        "\n",
        "  return False\n",
        "# def protectSalami(salami):\n",
        "#   arr= np.zeros(len(salami),dtype=int)\n",
        "#   for i in range(len(salami)):\n",
        "#     for j in range(i,len(arr),1):\n",
        "#       if salami[i] == salami[j]:\n",
        "#         arr[i]+= 1\n",
        "\n",
        "\n",
        "print(\"///  Test 05: Protecc Salami  ///\")\n",
        "salami = np.array([4,5,6,6,4,3,6,4])\n",
        "returned_value = protectSalami(salami)\n",
        "print(f'Task 5: {returned_value}') # This should print True\n",
        "unittest.output_test(returned_value, True)\n",
        "\n",
        "salami = np.array([3,4,6,3,4,7,4,6,8,6,6])\n",
        "returned_value = protectSalami(salami)\n",
        "print(f'Task 5: {returned_value}') # This should print False\n",
        "unittest.output_test(returned_value, False)"
      ],
      "metadata": {
        "id": "JGIYYUIza-st",
        "colab": {
          "base_uri": "https://localhost:8080/"
        },
        "outputId": "166ed7ab-00d0-4e9e-fc5e-c7ea43ae2598"
      },
      "execution_count": null,
      "outputs": [
        {
          "output_type": "stream",
          "name": "stdout",
          "text": [
            "///  Test 05: Protecc Salami  ///\n",
            "Task 5: True\n",
            "Accepted\n",
            "Task 5: False\n",
            "Accepted\n"
          ]
        }
      ]
    },
    {
      "cell_type": "markdown",
      "source": [
        "### PART 2\n",
        "```\n",
        "\n"
      ],
      "metadata": {
        "id": "NBtpX7ly4Bom"
      }
    },
    {
      "cell_type": "code",
      "source": [
        "#playing with Array and probability theory\n",
        "import numpy as np\n",
        "def meanValues(arr):\n",
        "  n= len(arr)\n",
        "  sum=0\n",
        "  for i in range(len(arr)):\n",
        "    sum+=arr[i]\n",
        "\n",
        "  return sum/n\n",
        "\n",
        "def standard_devision(arr):\n",
        "  if len(arr) == 0:\n",
        "    return None\n",
        "  mean= meanValues(arr)\n",
        "  stdSum=0\n",
        "  for i in range(len(arr)):\n",
        "    stdSum += (arr[i]-mean)**2\n",
        "\n",
        "  standard_div = (stdSum/(len(arr)-1))**0.5\n",
        "\n",
        "  return  int(standard_div*100 +0.5)/100\n",
        "\n",
        "def new_array(arr):\n",
        "  mean= meanValues(arr)\n",
        "  std= standard_devision(arr)\n",
        "  max= mean + (1.5*std)\n",
        "  min= mean - (1.5*std)\n",
        "  c=0\n",
        "  for i in range(len(arr)):\n",
        "    if min > arr[i] or arr[i] > max:\n",
        "      c+=1\n",
        "  new= np.array([None]*c)\n",
        "  c=0\n",
        "  for i in range(len(arr)):\n",
        "    if min > arr[i] or arr[i] > max:\n",
        "      new[c]=arr[i]\n",
        "      c+=1\n",
        "\n",
        "  return new\n",
        "\n",
        "arr =np.array([10, 8, 13, 9, 14, 25, -5, 20, 7, 7, 4])\n",
        "returned_value = meanValues(arr)\n",
        "print(f\"The mean of the numbers is: {returned_value}\")\n",
        "\n",
        "returned_value = standard_devision(arr)\n",
        "print(f\"The standard deviation is: {returned_value}\")\n",
        "\n",
        "returned_value = new_array(arr)\n",
        "print(f\"New array: {returned_value}\")\n",
        "\n"
      ],
      "metadata": {
        "colab": {
          "base_uri": "https://localhost:8080/"
        },
        "id": "mqyrmRTc4DEs",
        "outputId": "9b7bdf98-c566-4943-92fb-dcbe9e45a1c7"
      },
      "execution_count": null,
      "outputs": [
        {
          "output_type": "stream",
          "name": "stdout",
          "text": [
            "The mean of the numbers is: 10.181818181818182\n",
            "The standard deviation is: 7.96\n",
            "New array: [25 -5]\n"
          ]
        }
      ]
    },
    {
      "cell_type": "markdown",
      "source": [
        "BONUS TASK (Ungraded)"
      ],
      "metadata": {
        "id": "_6RT_GOabsDF"
      }
    },
    {
      "cell_type": "code",
      "source": [
        "# Test 06: Odd Even Wave\n",
        "import numpy as np\n",
        "def waveYourFlag(arr):\n",
        "    n = len(arr)\n",
        "    result = np.zeros(n,dtype = int)\n",
        "    result[0] = arr[0]\n",
        "    o=0\n",
        "    e=1\n",
        "    for i in range(1,n,1):\n",
        "\n",
        "      if arr[0]%2==0:\n",
        "\n",
        "        if arr[i]%2 ==0:\n",
        "          o+=2\n",
        "          result[o] = arr[i]\n",
        "        else:\n",
        "          result[e] = arr[i]\n",
        "          e+=2\n",
        "      else:\n",
        "         break\n",
        "\n",
        "    o=1\n",
        "    e=0\n",
        "    for i in range(1,n,1):\n",
        "\n",
        "      if arr[0]%2!=0:\n",
        "        if arr[i]%2 ==0:\n",
        "\n",
        "          result[o] = arr[i]\n",
        "          o += 2\n",
        "        else:\n",
        "          e+=2\n",
        "          result[e] = arr[i]\n",
        "      else:\n",
        "        break\n",
        "    return result\n",
        "\n",
        "print(\"///  Test 06: Odd Even Wave  ///\")\n",
        "arr = np.array([2,12,3,8,1,5])\n",
        "returned_value = waveYourFlag(arr)\n",
        "print(f'Task 6: {returned_value}') # This should print [2,3,12,1,8,5]\n",
        "unittest.output_test(returned_value, np.array([2,3,12,1,8,5]))\n",
        "\n",
        "arr = np.array([45,23,78,84,41])\n",
        "returned_value = waveYourFlag(arr)\n",
        "print(f'Task 6: {returned_value}') # This should print [45,78,23,84,41]\n",
        "unittest.output_test(returned_value, np.array([45,78,23,84,41]))"
      ],
      "metadata": {
        "id": "mrxIQ5rBhzPj",
        "colab": {
          "base_uri": "https://localhost:8080/"
        },
        "outputId": "fc37da75-35c4-4e7c-b229-ff73a6034e05"
      },
      "execution_count": null,
      "outputs": [
        {
          "output_type": "stream",
          "name": "stdout",
          "text": [
            "///  Test 06: Odd Even Wave  ///\n",
            "Task 6: [ 2  3 12  1  8  5]\n",
            "Accepted\n",
            "Task 6: [45 78 23 84 41]\n",
            "Accepted\n"
          ]
        }
      ]
    }
  ]
}