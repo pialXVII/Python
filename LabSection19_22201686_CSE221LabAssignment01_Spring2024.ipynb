{
  "nbformat": 4,
  "nbformat_minor": 0,
  "metadata": {
    "colab": {
      "provenance": [],
      "mount_file_id": "1RroRMKYretqKgAlAew-A868yMKYWaKu3",
      "authorship_tag": "ABX9TyNBXIbjQyDV+OMGnHojGk3I",
      "include_colab_link": true
    },
    "kernelspec": {
      "name": "python3",
      "display_name": "Python 3"
    },
    "language_info": {
      "name": "python"
    }
  },
  "cells": [
    {
      "cell_type": "markdown",
      "metadata": {
        "id": "view-in-github",
        "colab_type": "text"
      },
      "source": [
        "<a href=\"https://colab.research.google.com/github/pialXVII/Python/blob/CSE221_Algorithom/LabSection19_22201686_CSE221LabAssignment01_Spring2024.ipynb\" target=\"_parent\"><img src=\"https://colab.research.google.com/assets/colab-badge.svg\" alt=\"Open In Colab\"/></a>"
      ]
    },
    {
      "cell_type": "code",
      "execution_count": null,
      "metadata": {
        "id": "vidOv7W2jth1"
      },
      "outputs": [],
      "source": [
        "#Task1 a\n",
        "input_file = open(\"/content/drive/MyDrive/bracU/5th semester/CSE221/LAB/result/input1a\",\"r\")\n",
        "output_file =open(\"/content/drive/MyDrive/bracU/5th semester/CSE221/LAB/result/output1a\",\"w\")\n",
        "num = input_file.readline()\n",
        "T = int(num)\n",
        "\n",
        "for i in range(T):\n",
        "  num= input_file.readline()\n",
        "  num = int(num.rstrip())\n",
        "  if num%2 == 0 :\n",
        "    output_file.write(f\"{num} is an Even number.\\n\")\n",
        "  else:\n",
        "    output_file.write(f\"{num} is an Odd number.\\n\")\n",
        "\n",
        "input_file.close()\n",
        "output_file.close()\n",
        "\n",
        "\n"
      ]
    },
    {
      "cell_type": "code",
      "source": [
        "#task1 b\n",
        "input_file = open(\"/content/drive/MyDrive/bracU/5th semester/CSE221/LAB/result/input1b\",\"r\")\n",
        "output_file =open(\"/content/drive/MyDrive/bracU/5th semester/CSE221/LAB/result/output1b\",\"w\")\n",
        "num = input_file.readline()\n",
        "T = int(num)\n",
        "for i in range(T):\n",
        "  x = input_file.readline()\n",
        "  r =x.split()\n",
        "  if r[2]==\"+\":\n",
        "    calc= int(r[1])+int(r[3])\n",
        "  elif r[2]==\"-\":\n",
        "    calc= int(r[1])-int(r[3])\n",
        "  elif r[2]==\"/\":\n",
        "    calc= int(r[1])/int(r[3])\n",
        "  elif r[2]==\"*\":\n",
        "    calc= int(r[1])*int(r[3])\n",
        "  output_file.write(f\"The result of {int(r[1])} {r[2]} {int(r[3])} is {calc}\\n\")\n",
        "input_file.close()\n",
        "output_file.close()\n",
        "\n",
        "\n",
        "\n"
      ],
      "metadata": {
        "id": "nJIOP_7IjvRE"
      },
      "execution_count": null,
      "outputs": []
    },
    {
      "cell_type": "code",
      "source": [
        "#Task 2\n",
        "input_file = open(\"/content/drive/MyDrive/bracU/5th semester/CSE221/LAB/result/input2\",\"r\")\n",
        "output_file =open(\"/content/drive/MyDrive/bracU/5th semester/CSE221/LAB/result/output2\",\"w\")\n",
        "num = input_file.readline()\n",
        "T = int(num)\n",
        "def bubbleSort(arr):\n",
        "  flag = 0\n",
        "  for i in range(len(arr)-1):\n",
        "\n",
        "    for j in range(len(arr)-i-1):\n",
        "      if arr[j] > arr[j+1]:\n",
        "        arr[j], arr[j+1] = arr[j+1], arr[j]\n",
        "        flag += 1\n",
        "\n",
        "    if flag == 0:     #this is 0 means that the loop has run for 1 time, the array is sorted.\n",
        "      break           #we're breaking the loop only when the array is sorted for best case scenario.\n",
        "  return arr\n",
        "arr = input_file.readline().split()\n",
        "arr1= bubbleSort(arr)\n",
        "for i in arr1:\n",
        "  output_file.write(i+\" \")\n",
        "input_file.close()\n",
        "output_file.close()\n",
        "\n",
        "\n",
        "\n",
        "\n"
      ],
      "metadata": {
        "id": "im9fdjmpjvT-"
      },
      "execution_count": null,
      "outputs": []
    },
    {
      "cell_type": "code",
      "source": [
        "#Task3\n",
        "\n",
        "input_file = open(\"/content/drive/MyDrive/bracU/5th semester/CSE221/LAB/result/input3\",\"r\")\n",
        "output_file =open(\"/content/drive/MyDrive/bracU/5th semester/CSE221/LAB/result/output3\",\"w\")\n",
        "num = input_file.readline()\n",
        "T = int(num)\n",
        "if  1 <= T <= 1000:\n",
        "  id = input_file.readline().split()\n",
        "  marks =input_file.readline().split()\n",
        "\n",
        "def selectionsort(Id , Marks, T):\n",
        "\n",
        "\n",
        "  for i in range (T):\n",
        "    idx = i\n",
        "    for j in range(i+1,T):\n",
        "      if Marks[idx] < Marks[j] or (Marks[idx] == Marks[j] and Id[idx] > Id[j]):\n",
        "        idx = j\n",
        "    Marks[idx],Marks[i] = Marks[i],Marks[idx]\n",
        "    Id[idx],Id[i]= Id[i],Id[idx]\n",
        "\n",
        "  for k in range(T):\n",
        "        output_file.write(f'ID: {Id[k]} Marks: {Marks[k]}\\n')\n",
        "\n",
        "  return\n",
        "\n",
        "selectionsort(id , marks, T)\n",
        "input_file.close()\n",
        "output_file.close()\n",
        "\n",
        "\n"
      ],
      "metadata": {
        "id": "dZ9fjoiCjvWm"
      },
      "execution_count": null,
      "outputs": []
    },
    {
      "cell_type": "code",
      "source": [
        "#Task4\n",
        "input_file = open(\"/content/drive/MyDrive/bracU/5th semester/CSE221/LAB/result/input4\",\"r\")\n",
        "output_file =open(\"/content/drive/MyDrive/bracU/5th semester/CSE221/LAB/result/output4\",\"w\")\n",
        "num = input_file.readline()\n",
        "T = int(num)\n",
        "train=[]\n",
        "loc=[]\n",
        "time=[]\n",
        "for line in input_file:\n",
        "  temp=line.split()\n",
        "  train.append(temp[0])\n",
        "  loc.append(temp[4])\n",
        "  time.append(temp[6])\n",
        "\n",
        "for i in range(T):\n",
        "  idx= i\n",
        "  for j in range(i+1,T):\n",
        "    if train[idx] > train[j] or (train[idx]==train[j] and time[idx] < time[j]):\n",
        "      idx=j\n",
        "  train[i],train[idx]=train[idx],train[i]\n",
        "  loc[i],loc[idx]=loc[idx],loc[i]\n",
        "  time[i],time[idx]=time[idx],time[i]\n",
        "\n",
        "for i in range(T):\n",
        "  output_file.write(f'{train[i]} will departure for {loc[i]} at {time[i]}\\n')\n",
        "\n",
        "input_file.close()\n",
        "output_file.close()\n",
        "\n",
        "\n",
        "\n",
        "\n"
      ],
      "metadata": {
        "id": "1q6JQkJXjvaC"
      },
      "execution_count": null,
      "outputs": []
    }
  ]
}