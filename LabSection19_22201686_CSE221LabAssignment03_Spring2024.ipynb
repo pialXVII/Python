{
  "nbformat": 4,
  "nbformat_minor": 0,
  "metadata": {
    "colab": {
      "provenance": [],
      "mount_file_id": "1E7YA6_goKECA8djZh22vHPfFpByU1mFS",
      "authorship_tag": "ABX9TyO1DxBETTOVzUiKIUIH+K1w",
      "include_colab_link": true
    },
    "kernelspec": {
      "name": "python3",
      "display_name": "Python 3"
    },
    "language_info": {
      "name": "python"
    }
  },
  "cells": [
    {
      "cell_type": "markdown",
      "metadata": {
        "id": "view-in-github",
        "colab_type": "text"
      },
      "source": [
        "<a href=\"https://colab.research.google.com/github/pialXVII/Python/blob/CSE221_Algorithom/LabSection19_22201686_CSE221LabAssignment03_Spring2024.ipynb\" target=\"_parent\"><img src=\"https://colab.research.google.com/assets/colab-badge.svg\" alt=\"Open In Colab\"/></a>"
      ]
    },
    {
      "cell_type": "code",
      "execution_count": null,
      "metadata": {
        "id": "_oPuxRAUBlls"
      },
      "outputs": [],
      "source": [
        "#task1\n",
        "input_file =open(\"/content/drive/MyDrive/bracU/5th semester/CSE221/LAB/Lab03/input1.txt\",\"r\")\n",
        "output_file = open(\"/content/drive/MyDrive/bracU/5th semester/CSE221/LAB/Lab03/output1.txt\",\"w\")\n",
        "T= int(input_file.readline())\n",
        "def merge(a, b):\n",
        "  i,j=0,0\n",
        "  sort=[]\n",
        "  while i< len(a) and j < len(b):\n",
        "    if a[i]> b[j]:\n",
        "      sort.append(b[j])\n",
        "      j+=1\n",
        "\n",
        "    else:\n",
        "      sort.append(a[i])\n",
        "      i+=1\n",
        "\n",
        "  if i< len(a):\n",
        "    sort.extend(a[i::])\n",
        "  elif j < len(b):\n",
        "    sort.extend(b[j::])\n",
        "\n",
        "  return sort\n",
        "\n",
        "\n",
        "def mergeSort(arr):\n",
        "  if len(arr) <= 1:\n",
        "    return arr\n",
        "\n",
        "  else:\n",
        "    mid = len(arr)//2\n",
        "    a1 = mergeSort(arr[0:mid]) # write the parameter\n",
        "    a2 = mergeSort(arr[mid:len(arr)]) # write the parameter\n",
        "    return merge(a1, a2)\n",
        "\n",
        "X=list(map(int,input_file.readline().split()))\n",
        "X= list(map(str,mergeSort(X)))\n",
        "output_file.write(f\"{' '.join(X)}\")\n",
        "\n",
        "input_file.close()\n",
        "output_file.close()"
      ]
    },
    {
      "cell_type": "code",
      "source": [
        "#Task2\n",
        "input_file =open(\"/content/drive/MyDrive/bracU/5th semester/CSE221/LAB/Lab03/input2.txt\",\"r\")\n",
        "output_file = open(\"/content/drive/MyDrive/bracU/5th semester/CSE221/LAB/Lab03/output2.txt\",\"w\")\n",
        "T= int(input_file.readline())\n",
        "\n",
        "def maximum(a1,a2):\n",
        "  if a1>a2:\n",
        "    return a1\n",
        "  else:\n",
        "    return a2\n",
        "\n",
        "\n",
        "def getMax(arr):\n",
        "  if len(arr) <=1:\n",
        "    return arr[0]\n",
        "\n",
        "  else:\n",
        "    mid = len(arr)//2\n",
        "    a1 =getMax(arr[0:mid])\n",
        "    a2 =getMax(arr[mid::])\n",
        "\n",
        "    return maximum(a1,a2)\n",
        "\n",
        "X=list(map(int,input_file.readline().split()))\n",
        "output_file.write(f\"{getMax(X)}\")\n",
        "\n",
        "input_file.close()\n",
        "output_file.close()"
      ],
      "metadata": {
        "id": "Y16Q71GyBmf2"
      },
      "execution_count": null,
      "outputs": []
    },
    {
      "cell_type": "code",
      "source": [
        "# Task3\n",
        "input_file =open(\"/content/drive/MyDrive/bracU/5th semester/CSE221/LAB/Lab03/input3.txt\",\"r\")\n",
        "output_file = open(\"/content/drive/MyDrive/bracU/5th semester/CSE221/LAB/Lab03/output3.txt\",\"w\")\n",
        "T =int(input_file.readline())\n",
        "c = 0\n",
        "def count(a,b):\n",
        "  i,j =0,0\n",
        "  global c\n",
        "  sort =[]\n",
        "  while i< len(a) and j< len(b):\n",
        "    if a[i]>b[j]: # 2,7\n",
        "      c+=(len(b)-j)\n",
        "      sort.append(a[i])\n",
        "      i+=1\n",
        "    else:\n",
        "      sort.append(b[j])\n",
        "      j+=1\n",
        "  sort+=a[i:]\n",
        "  sort+=b[j:]\n",
        "  return sort\n",
        "\n",
        "\n",
        "def getCombination(arr):\n",
        "  if len(arr) <=1:\n",
        "    return arr\n",
        "  else:\n",
        "    mid = len(arr)//2\n",
        "    x= getCombination(arr[0:mid])\n",
        "    y=getCombination(arr[mid::])\n",
        "\n",
        "    return count(x,y)\n",
        "\n",
        "arr = list(map(int,input_file.readline().split()))\n",
        "getCombination(arr)\n",
        "output_file.write(f\"{c}\")\n",
        "\n",
        "input_file.close()\n",
        "output_file.close()"
      ],
      "metadata": {
        "id": "q531DTKjBmi5"
      },
      "execution_count": null,
      "outputs": []
    },
    {
      "cell_type": "code",
      "source": [
        "#Task 4\n",
        "input_file =open(\"/content/drive/MyDrive/bracU/5th semester/CSE221/LAB/Lab03/input4.txt\",\"r\")\n",
        "output_file = open(\"/content/drive/MyDrive/bracU/5th semester/CSE221/LAB/Lab03/output4.txt\",\"w\")\n",
        "T =int(input_file.readline())\n",
        "arr = list(map(int,input_file.readline().split()))\n",
        "\n",
        "\n",
        "\n",
        "def calculation(arr):\n",
        "  if len(arr) <=1:\n",
        "    return (arr[0])**2\n",
        "  else:\n",
        "    mid = len(arr)//2\n",
        "    a1 =calculation(arr[0:mid])\n",
        "    a2 =calculation(arr[mid::])\n",
        "    return max(a1,a2)\n",
        "\n",
        "def findMax(arr,T):\n",
        "  maxi = -99999999999999999999999999999\n",
        "  for i in range(T-1):\n",
        "    s = arr[i] + calculation(arr[i+1:T])\n",
        "    if s> maxi:\n",
        "      maxi = s\n",
        "\n",
        "  output_file.write(f\"{maxi}\")\n",
        "\n",
        "\n",
        "findMax(arr,T)\n",
        "input_file.close()\n",
        "output_file.close()"
      ],
      "metadata": {
        "id": "iui7Vc69iYHR"
      },
      "execution_count": null,
      "outputs": []
    },
    {
      "cell_type": "code",
      "source": [
        "#Task5\n",
        "input_file =open(\"/content/drive/MyDrive/bracU/5th semester/CSE221/LAB/Lab03/input5.txt\",\"r\")\n",
        "output_file = open(\"/content/drive/MyDrive/bracU/5th semester/CSE221/LAB/Lab03/output5.txt\",\"w\")\n",
        "\n",
        "\n",
        "def partition(array, low, high):\n",
        "\n",
        "    pivot = array[high]\n",
        "    i = low - 1\n",
        "    for j in range(low, high):\n",
        "        if array[j] <= pivot:\n",
        "            i = i + 1\n",
        "            array[i], array[j] = array[j], array[i]\n",
        "    array[i + 1], array[high] = array[high], array[i + 1]\n",
        "    return i + 1\n",
        "\n",
        "\n",
        "\n",
        "def quicksort(array, low, high):\n",
        "    if low < high:\n",
        "        pi = partition(array, low, high)\n",
        "        quicksort(array, low, pi - 1)\n",
        "        quicksort(array, pi + 1, high)\n",
        "\n",
        "\n",
        "n=int(input_file .readline())\n",
        "arr1=list(map(int,input_file .readline().split()))\n",
        "quicksort(arr1,0,n-1)\n",
        "for k in arr1:\n",
        "    output_file .write(str(k)+' ')\n",
        "\n",
        "\n",
        "\n",
        "\n",
        "input_file.close()\n",
        "output_file.close()"
      ],
      "metadata": {
        "id": "Eh9H_5bfBmqR"
      },
      "execution_count": null,
      "outputs": []
    },
    {
      "cell_type": "code",
      "source": [
        "#Task6\n",
        "input_file =open(\"/content/drive/MyDrive/bracU/5th semester/CSE221/LAB/Lab03/input6.txt\",\"r\")\n",
        "output_file = open(\"/content/drive/MyDrive/bracU/5th semester/CSE221/LAB/Lab03/output6.txt\",\"w\")\n",
        "\n",
        "def partition(array, low, high):\n",
        "\n",
        "    pivot = array[high]\n",
        "    i = low - 1\n",
        "    for j in range(low, high):\n",
        "        if array[j] <= pivot:\n",
        "            i = i + 1\n",
        "            array[i], array[j] = array[j], array[i]\n",
        "    array[i + 1], array[high] = array[high], array[i + 1]\n",
        "    return i + 1\n",
        "\n",
        "\n",
        "\n",
        "def quicksort(array, low, high,k):\n",
        "    if low <=high:\n",
        "        pi = partition(array, low, high)\n",
        "        if pi==k-1:\n",
        "            return array[pi]\n",
        "        elif pi>k-1:\n",
        "          return quicksort(array, low, pi - 1,k)\n",
        "        else:\n",
        "          return quicksort(array, pi + 1, high,k)\n",
        "\n",
        "n=input_file.readline().split()\n",
        "arr1=list(map(int,input_file.readline().split()))\n",
        "k=input_file.readline().split()\n",
        "for i in range(int(k[0])):\n",
        "    kth_smallest=quicksort(arr1, 0, int(n[0]) - 1,int(input_file.readline()))\n",
        "    output_file.write(str(kth_smallest) + '\\n')\n",
        "\n",
        "input_file.close()\n",
        "output_file.close()"
      ],
      "metadata": {
        "id": "Nl2mnhJ9CIN0"
      },
      "execution_count": null,
      "outputs": []
    },
    {
      "cell_type": "code",
      "source": [
        "from google.colab import drive\n",
        "drive.mount('/content/drive')"
      ],
      "metadata": {
        "colab": {
          "base_uri": "https://localhost:8080/"
        },
        "id": "ayCHYN4lCMWM",
        "outputId": "7a3f715f-cda0-4f9b-9b89-b1135f54b203"
      },
      "execution_count": null,
      "outputs": [
        {
          "output_type": "stream",
          "name": "stdout",
          "text": [
            "Drive already mounted at /content/drive; to attempt to forcibly remount, call drive.mount(\"/content/drive\", force_remount=True).\n"
          ]
        }
      ]
    }
  ]
}