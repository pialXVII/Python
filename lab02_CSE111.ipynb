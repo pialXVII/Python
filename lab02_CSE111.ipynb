{
  "nbformat": 4,
  "nbformat_minor": 0,
  "metadata": {
    "colab": {
      "provenance": [],
      "authorship_tag": "ABX9TyOzM/jOpZUEDWu0uYA7cPRm",
      "include_colab_link": true
    },
    "kernelspec": {
      "name": "python3",
      "display_name": "Python 3"
    },
    "language_info": {
      "name": "python"
    }
  },
  "cells": [
    {
      "cell_type": "markdown",
      "metadata": {
        "id": "view-in-github",
        "colab_type": "text"
      },
      "source": [
        "<a href=\"https://colab.research.google.com/github/pialXVII/Python/blob/CSE111-OOP/lab02_CSE111.ipynb\" target=\"_parent\"><img src=\"https://colab.research.google.com/assets/colab-badge.svg\" alt=\"Open In Colab\"/></a>"
      ]
    },
    {
      "cell_type": "code",
      "execution_count": null,
      "metadata": {
        "id": "o0CSK_Oti8IG",
        "colab": {
          "base_uri": "https://localhost:8080/"
        },
        "outputId": "cc80ddaa-3234-427f-86e3-40cbe422446c"
      },
      "outputs": [
        {
          "output_type": "stream",
          "name": "stdout",
          "text": [
            "(5, 2)\n",
            "0.5\n"
          ]
        }
      ],
      "source": [
        "#task1\n",
        "def func (m,n):\n",
        "  x=m/n\n",
        "  x2=m//n\n",
        "  c=x-x2\n",
        "  if 0 <=c<=1:\n",
        "    return c\n",
        "  else:\n",
        "    return 0\n",
        "\n",
        "\n",
        "\n",
        "s=input()\n",
        "s=s[1:-1]\n",
        "a=func(int(s[0]),int(s[-1]))\n",
        "print(a)"
      ]
    },
    {
      "cell_type": "code",
      "source": [
        "#task2\n",
        "def BMI(height,weight):\n",
        "  bmi=weight/((height/100)**2)\n",
        "\n",
        "  if bmi<18.5:\n",
        "    return f\"Score is {bmi:.1f}.You are Underweight\"\n",
        "  elif 18.5<=bmi<25:\n",
        "    return f\"Score is {bmi:.1f}.You are Normal\"\n",
        "  elif 25<=bmi<=30:\n",
        "    return f\"Score is {bmi:.1f}.You are Overweight\"\n",
        "  else:\n",
        "    return f\"Score is {bmi:.1f}.You are Obese\"\n",
        "\n",
        "\n",
        "x=input()\n",
        "x=x[1:-1]\n",
        "x=x.split(', ')\n",
        "\n",
        "s=BMI(int(x[0]),int(x[-1]))\n",
        "print(s)"
      ],
      "metadata": {
        "colab": {
          "base_uri": "https://localhost:8080/"
        },
        "id": "nmw4ddyti853",
        "outputId": "ee452d92-b915-442a-b018-76799e9909c6"
      },
      "execution_count": null,
      "outputs": [
        {
          "output_type": "stream",
          "name": "stdout",
          "text": [
            "(152, 48)\n",
            "Score is 20.8.You are Normal\n"
          ]
        }
      ]
    },
    {
      "cell_type": "code",
      "source": [
        "#task3\n",
        "def divisor(min,max,div):\n",
        "  total=0\n",
        "  for i in range(min,max):\n",
        "    if i%div==0:\n",
        "      total+=i\n",
        "  return total\n",
        "\n",
        "\n",
        "total=divisor(int(input()),int(input()),int(input()))\n",
        "print(total)"
      ],
      "metadata": {
        "colab": {
          "base_uri": "https://localhost:8080/"
        },
        "id": "kigmL1_Di88U",
        "outputId": "6411928b-efd2-4f1b-eac5-ba8a43970059"
      },
      "execution_count": null,
      "outputs": [
        {
          "output_type": "stream",
          "name": "stdout",
          "text": [
            "3\n",
            "16\n",
            "3\n",
            "45\n"
          ]
        }
      ]
    },
    {
      "cell_type": "code",
      "source": [
        "#task4\n",
        "def Chillox_foodpanda_app(item,l='Mohakhali'):\n",
        "\n",
        "  meal_cost=0\n",
        "  total=0\n",
        "\n",
        "  if item==\"BBQ Chicken Cheese Burger\":\n",
        "    meal_cost+=250\n",
        "  elif item=='Beef Burger':\n",
        "\n",
        "    meal_cost+=170\n",
        "  elif item==\"Naga Drums\":\n",
        "    meal_cost+=200\n",
        "  if l==\"Mohakhali\" :\n",
        "    dc=40\n",
        "  else:\n",
        "    dc=60\n",
        "  tax=meal_cost*(8/100)\n",
        "  total=meal_cost+dc+tax\n",
        "  return total\n",
        "\n",
        "\n",
        "Chillox_foodpanda_app('Beef Burger','Dhanmondi')\n",
        "\n"
      ],
      "metadata": {
        "id": "26WFED-Wi8_a",
        "colab": {
          "base_uri": "https://localhost:8080/"
        },
        "outputId": "0617dc60-d6f1-4b87-a541-712314d1e727"
      },
      "execution_count": null,
      "outputs": [
        {
          "output_type": "execute_result",
          "data": {
            "text/plain": [
              "243.6"
            ]
          },
          "metadata": {},
          "execution_count": 10
        }
      ]
    },
    {
      "cell_type": "code",
      "source": [],
      "metadata": {
        "id": "3hFx4xNLrWCS"
      },
      "execution_count": null,
      "outputs": []
    },
    {
      "cell_type": "code",
      "source": [
        "#task5\n",
        "def replace_domain(s,s1,s2):\n",
        "  p=s.split('@')\n",
        "  if p[1]==s1:\n",
        "    print('Unchanged:',s)\n",
        "  else:\n",
        "    print('Changed:',p[0]+'@'+s1)\n",
        "\n",
        "\n",
        "\n",
        "\n",
        "s=input()\n",
        "s1=input()\n",
        "s2=input()\n",
        "replace_domain(s,s1,s2)"
      ],
      "metadata": {
        "colab": {
          "base_uri": "https://localhost:8080/"
        },
        "id": "33KX1bq9i9CY",
        "outputId": "28cdcee5-eb2c-4289-932e-c413a41516cb"
      },
      "execution_count": null,
      "outputs": [
        {
          "output_type": "stream",
          "name": "stdout",
          "text": [
            "alice@kaaj.com\n",
            "sheba.xyz\n",
            "\n",
            "Changed: alice@sheba.xyz\n"
          ]
        }
      ]
    },
    {
      "cell_type": "code",
      "source": [
        "#task6\n",
        "s=input()\n",
        "def function(s):\n",
        "  l=[]\n",
        "  l2=['a','e','i','o','u','A','E','I','O','U']\n",
        "  for i in s:\n",
        "    if i in l2:\n",
        "      l.append(i)\n",
        "  if l==[]:\n",
        "    print('No vowels in the name')\n",
        "  else:\n",
        "    a=','.join(l)\n",
        "    print(f\"Vowels: {a}. Total number of vowels: {len(l)}\")"
      ],
      "metadata": {
        "colab": {
          "base_uri": "https://localhost:8080/"
        },
        "id": "AYDr1S6KhwL_",
        "outputId": "391e67da-9d4a-424b-ac1e-23e57c3ba998"
      },
      "execution_count": null,
      "outputs": [
        {
          "output_type": "stream",
          "name": "stdout",
          "text": [
            "Steve Jobs\n",
            "Vowels: e,e,o. Total number of vowels: 3\n"
          ]
        }
      ]
    },
    {
      "cell_type": "code",
      "source": [
        "#task7\n",
        "def palindrome(p):\n",
        "  if p==p[::-1]:\n",
        "    print('Palindrome')\n",
        "  else:\n",
        "    print('Not a palindrome')\n",
        "\n",
        "palindrome(input())\n"
      ],
      "metadata": {
        "colab": {
          "base_uri": "https://localhost:8080/"
        },
        "id": "llhmKT7Wi9Eu",
        "outputId": "aee5c593-2690-487e-ea74-cde7a774ee09"
      },
      "execution_count": null,
      "outputs": [
        {
          "output_type": "stream",
          "name": "stdout",
          "text": [
            "hello\n",
            "Not a palindrome\n"
          ]
        }
      ]
    },
    {
      "cell_type": "code",
      "source": [
        "#task7\n",
        "def palindrome(p):\n",
        "\n",
        "  flag=True\n",
        "\n",
        "\n",
        "  for i in range(0,len(p)):\n",
        "\n",
        "    if p[i]==p[len(p)-i-1]:\n",
        "      flag = True\n",
        "    else:\n",
        "      flag=False\n",
        "      break\n",
        "  if flag== True:\n",
        "    print('Palindrome')\n",
        "\n",
        "  else:\n",
        "    print('Not a palindrome')\n",
        "\n",
        "palindrome(input())\n"
      ],
      "metadata": {
        "colab": {
          "base_uri": "https://localhost:8080/"
        },
        "id": "g4EKhZy6wKXP",
        "outputId": "e35ade7c-91b1-41b7-9243-b7b22ff26178"
      },
      "execution_count": null,
      "outputs": [
        {
          "output_type": "stream",
          "name": "stdout",
          "text": [
            "dad\n",
            "Palindrome\n"
          ]
        }
      ]
    },
    {
      "cell_type": "code",
      "source": [
        "#task8\n",
        "def count(day):\n",
        "  year=day//365\n",
        "  day=day-(year*365)\n",
        "  month=day//30\n",
        "  day=day-(month*30)\n",
        "  print(f\"{year} years, {month} months and {day} days\")\n",
        "\n",
        "\n",
        "\n",
        "day=int(input())\n",
        "count(day)"
      ],
      "metadata": {
        "colab": {
          "base_uri": "https://localhost:8080/"
        },
        "id": "tNaIiazYlUb9",
        "outputId": "c38b90f6-82d7-4e4a-e06f-cd14ac19ab11"
      },
      "execution_count": null,
      "outputs": [
        {
          "output_type": "stream",
          "name": "stdout",
          "text": [
            "43350\n",
            "118 years, 9 months and 10 days\n"
          ]
        }
      ]
    },
    {
      "cell_type": "code",
      "source": [
        "#TASK8 OTHER WAY\n",
        "#task8\n",
        "# def count(day):\n",
        "#   L=[365,30]\n",
        "#   for i in l:\n",
        "#     year= day//i\n",
        "#     day=day-(year*i)\n",
        "\n",
        "#   print(f\"{year} years, {month} months and {day} days\")\n",
        "\n",
        "\n",
        "\n",
        "# day=int(input())\n",
        "# count(day)"
      ],
      "metadata": {
        "id": "zYr9Uf-ktlHU"
      },
      "execution_count": null,
      "outputs": []
    },
    {
      "cell_type": "code",
      "source": [
        "#task9\n",
        "def capital(s):\n",
        "    index = 0\n",
        "    ans = \"\"\n",
        "    sign = 0\n",
        "    while(index < len(s)):\n",
        "        if(97<=ord(s[0])<=122 and index == 0):\n",
        "            ans += s[0].upper()\n",
        "        # elif(s[index] == \".\" or s[index] == \"!\" or s[index] == \"?\"):\n",
        "        elif s[index] in \".!?\":\n",
        "            sign = 1\n",
        "            ans += s[index]\n",
        "        elif((97<= ord(s[index]) <= 122) and sign == 1):\n",
        "            ans += s[index].upper()\n",
        "            sign = 0\n",
        "        elif(s[index] == \"i\" and (s[index - 1] == \" \" and (s[index + 1] == \" \" or s[index + 1] == \".\" or s[index + 1] == \"!\" or s[index + 1] == \"?\"))):\n",
        "            ans += \"I\"\n",
        "            sign = 0\n",
        "        else:\n",
        "            ans += s[index]\n",
        "            if(ord(s[index]) >= 65 and ord(s[index]) <= 90):\n",
        "                sign = 0\n",
        "\n",
        "        index += 1\n",
        "\n",
        "    return ans\n",
        "\n",
        "s = input(\"Enter line: \")\n",
        "print(capital(s))\n"
      ],
      "metadata": {
        "colab": {
          "base_uri": "https://localhost:8080/"
        },
        "id": "nyqJBkQfi9HN",
        "outputId": "5e3fb63c-07c7-4e28-b1cd-00b7086532df"
      },
      "execution_count": null,
      "outputs": [
        {
          "output_type": "stream",
          "name": "stdout",
          "text": [
            "Enter line: my favourite animal is a dog. a dog has sharp teeth so that it can eat flesh very easily. do you know my pet dog’s name? i love my pet very much.\n",
            "My favourite animal is a dog. A dog has sharp teeth so that it can eat flesh very easily. Do you know my pet dog’s name? I love my pet very much.\n"
          ]
        }
      ]
    },
    {
      "cell_type": "code",
      "source": [],
      "metadata": {
        "id": "gdWczupli9KE"
      },
      "execution_count": null,
      "outputs": []
    },
    {
      "cell_type": "code",
      "source": [],
      "metadata": {
        "id": "xiCJr1Pyi9L6"
      },
      "execution_count": null,
      "outputs": []
    },
    {
      "cell_type": "code",
      "source": [],
      "metadata": {
        "id": "oHDChH6ki9Pd"
      },
      "execution_count": null,
      "outputs": []
    },
    {
      "cell_type": "code",
      "source": [],
      "metadata": {
        "id": "l4qig_VEi9SJ"
      },
      "execution_count": null,
      "outputs": []
    },
    {
      "cell_type": "code",
      "source": [],
      "metadata": {
        "id": "6hVGLA9Si9Uh"
      },
      "execution_count": null,
      "outputs": []
    },
    {
      "cell_type": "code",
      "source": [],
      "metadata": {
        "id": "siAwt7QMi9Xr"
      },
      "execution_count": null,
      "outputs": []
    }
  ]
}