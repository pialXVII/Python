{
  "nbformat": 4,
  "nbformat_minor": 0,
  "metadata": {
    "colab": {
      "provenance": [],
      "authorship_tag": "ABX9TyOV5ADfIILY6+Js6ciLKQym",
      "include_colab_link": true
    },
    "kernelspec": {
      "name": "python3",
      "display_name": "Python 3"
    },
    "language_info": {
      "name": "python"
    }
  },
  "cells": [
    {
      "cell_type": "markdown",
      "metadata": {
        "id": "view-in-github",
        "colab_type": "text"
      },
      "source": [
        "<a href=\"https://colab.research.google.com/github/pialXVII/Python/blob/CSE111-OOP/mid_prac.ipynb\" target=\"_parent\"><img src=\"https://colab.research.google.com/assets/colab-badge.svg\" alt=\"Open In Colab\"/></a>"
      ]
    },
    {
      "cell_type": "code",
      "source": [
        "#fall22\n",
        "class PizzaMachine:\n",
        "  def __init__(self,typ='Regular',size=6):\n",
        "    self.typ=typ\n",
        "    self.size=size\n",
        "    self.spicyitm=['Hot','Super Naga','Regular']\n",
        "\n",
        "  def customizePizza(self,*t):\n",
        "\n",
        "\n",
        "    if type(t[0])==list:\n",
        "      if len(t)==2:\n",
        "\n",
        "        top=\", \".join(t[0])\n",
        "        if t[1] in self.spicyitm:\n",
        "\n",
        "\n",
        "         spicy=t[1]\n",
        "        else:\n",
        "          return f\"Sorry! Spice level not allowed. Can't bake pizza.\"\n",
        "      else:\n",
        "        top=\", \".join(t[0])\n",
        "        spicy='Regular'\n",
        "\n",
        "\n",
        "    else:\n",
        "        return f\"No toppings specified! Can't bake pizza.\"\n",
        "\n",
        "\n",
        "\n",
        "    return f\"\"\"Your {self.size}-inch {spicy} spicy {self.typ}  Pizza is ready\n",
        "with {top} toppings. Enjoy!\"\"\"\n",
        "\n",
        "\n",
        "\n",
        "\n",
        "\n",
        "pizza1 = PizzaMachine()\n",
        "order1 = pizza1.customizePizza([\"Cheese\",\"Pepperoni\"],\"Hot\")\n",
        "print(\"1################################# \")\n",
        "print(order1)\n",
        "print(\"2================================\")\n",
        "pizza2 = PizzaMachine(\"Vege\")\n",
        "order2 = pizza2.customizePizza(\"Super Naga\")\n",
        "print(\"3#################################\")\n",
        "print(order2)\n",
        "print(\"4================================\")\n",
        "pizza3 = PizzaMachine(\"Chicken Blast\",12)\n",
        "order3 = pizza3.customizePizza([\"Mushroom\"])\n",
        "print(\"5#################################\")\n",
        "print(order3)\n",
        "print(\"6================================\")\n",
        "pizza4 = PizzaMachine(\"Beef Bonanza\",16)\n",
        "order4 = pizza4.customizePizza([\"Cheese\",\"Beef kalabhuna\"],\"Mild\")\n",
        "print(\"7#################################\")\n",
        "print(order4)\n",
        "print(\"8================================\")"
      ],
      "metadata": {
        "colab": {
          "base_uri": "https://localhost:8080/"
        },
        "id": "4tdx-JzhMkiT",
        "outputId": "20eab15b-1073-41ce-b4ac-fb6c8e3e93b4"
      },
      "execution_count": null,
      "outputs": [
        {
          "output_type": "stream",
          "name": "stdout",
          "text": [
            "1################################# \n",
            "Your 6-inch Hot spicy Regular  Pizza is ready\n",
            "with Cheese, Pepperoni toppings. Enjoy!\n",
            "2================================\n",
            "3#################################\n",
            "No toppings specified! Can't bake pizza.\n",
            "4================================\n",
            "5#################################\n",
            "Your 12-inch Regular spicy Chicken Blast  Pizza is ready\n",
            "with Mushroom toppings. Enjoy!\n",
            "6================================\n",
            "7#################################\n",
            "Sorry! Spice level not allowed. Can't bake pizza.\n",
            "8================================\n"
          ]
        }
      ]
    },
    {
      "cell_type": "code",
      "source": [
        "class RickMote:\n",
        "\n",
        "    def __init__(self):\n",
        "        self.channel_idx = 0\n",
        "        self.volume = 3\n",
        "        self.pow = \"OFF\"\n",
        "        self.lst = [0, 2, 3, 6, 7, 9]\n",
        "\n",
        "\n",
        "    def power(self):\n",
        "        if self.pow == \"OFF\":\n",
        "            self.pow = \"ON\"\n",
        "        else:\n",
        "            self.pow = \"OFF\"\n",
        "\n",
        "    def changeChannel(self, x = None):\n",
        "        if self.pow == \"OFF\":\n",
        "            print(\"Power is turned off. Cannot change channel.\")\n",
        "            return None\n",
        "\n",
        "        if x == None:\n",
        "            self.channel_idx += 1\n",
        "        else:\n",
        "            if x in self.lst:\n",
        "                self.channel_idx = self.lst.index(x)\n",
        "            else:\n",
        "                print(\"TV channel does not exist.\")\n",
        "\n",
        "    def changeVolumeLevel(self, x = 1):\n",
        "        if self.pow == \"OFF\":\n",
        "            print(\"Power is turned off. Cannot change volume.\")\n",
        "            return None\n",
        "\n",
        "        self.volume += x\n",
        "\n",
        "\n",
        "    def showInfo(self):\n",
        "        print(\"ID Cable Box Status:\")\n",
        "\n",
        "        if self.pow == \"OFF\":\n",
        "            print(\"Cable Box is:\", self.pow)\n",
        "\n",
        "        else:\n",
        "            print(\"Cable Box is:\", self.pow)\n",
        "            print(\"Channel:\", self.lst[self.channel_idx])\n",
        "            print(\"Volume:\", self.volume)\n",
        "\n",
        "\n",
        "\n",
        "\n",
        "\n",
        "\n",
        "\n",
        "oTV = RickMote()\n",
        "oTV.power()\n",
        "print(\"1.############################\")\n",
        "oTV.showInfo()\n",
        "print(\"2.############################\")\n",
        "oTV.changeChannel()\n",
        "oTV.changeVolumeLevel()\n",
        "oTV.showInfo()\n",
        "print(\"3.############################\")\n",
        "oTV.power()\n",
        "oTV.showInfo()\n",
        "print(\"4.############################\")\n",
        "oTV.power()\n",
        "oTV.changeVolumeLevel(4)\n",
        "oTV.changeChannel(3)\n",
        "oTV.showInfo()\n",
        "print(\"5.############################\")\n",
        "oTV.changeVolumeLevel(-2)\n",
        "oTV.showInfo()\n",
        "print(\"6.############################\")\n",
        "oTV.power()\n",
        "oTV.changeChannel(9)\n",
        "oTV.changeVolumeLevel(-1)\n",
        "oTV.showInfo()\n",
        "print(\"7.############################\")\n",
        "oTV.power()\n",
        "oTV.changeChannel(11)\n",
        "oTV.showInfo()\n"
      ],
      "metadata": {
        "id": "oQwcxKH0SC6C",
        "colab": {
          "base_uri": "https://localhost:8080/"
        },
        "outputId": "0b7cecff-a983-4d77-a61c-65ca34977570"
      },
      "execution_count": null,
      "outputs": [
        {
          "output_type": "stream",
          "name": "stdout",
          "text": [
            "1.############################\n",
            "ID Cable Box Status:\n",
            "Cable Box is: ON\n",
            "Channel: 0\n",
            "Volume: 3\n",
            "2.############################\n",
            "ID Cable Box Status:\n",
            "Cable Box is: ON\n",
            "Channel: 2\n",
            "Volume: 4\n",
            "3.############################\n",
            "ID Cable Box Status:\n",
            "Cable Box is: OFF\n",
            "4.############################\n",
            "ID Cable Box Status:\n",
            "Cable Box is: ON\n",
            "Channel: 3\n",
            "Volume: 8\n",
            "5.############################\n",
            "ID Cable Box Status:\n",
            "Cable Box is: ON\n",
            "Channel: 3\n",
            "Volume: 6\n",
            "6.############################\n",
            "Power is turned off. Cannot change channel.\n",
            "Power is turned off. Cannot change volume.\n",
            "ID Cable Box Status:\n",
            "Cable Box is: OFF\n",
            "7.############################\n",
            "TV channel does not exist.\n",
            "ID Cable Box Status:\n",
            "Cable Box is: ON\n",
            "Channel: 3\n",
            "Volume: 6\n"
          ]
        }
      ]
    },
    {
      "cell_type": "code",
      "source": [
        "class MidA:\n",
        "   def __init__(self):\n",
        "    self.x = 3\n",
        "    self.y = 7\n",
        "    self.sum = 0\n",
        "   def methodA(self, x):\n",
        "    self.y = x + self.sum + self.x\n",
        "    self.sum = x + self.y\n",
        "    z = MidA()\n",
        "    z.sum = self.sum + self.y\n",
        "    self.methodB(z)\n",
        "    print(self.x, self.y, self.sum)\n",
        "   def methodB(self, a):\n",
        "    y = 3\n",
        "    a.x = self.x + self.sum;\n",
        "    self.sum = a.x + a.y + y\n",
        "    print(a.x, a.y, a.sum)\n",
        "\n",
        "a = MidA()\n",
        "a.methodA(5)"
      ],
      "metadata": {
        "id": "9DOR-WoCSC-L",
        "colab": {
          "base_uri": "https://localhost:8080/"
        },
        "outputId": "91e67476-e417-4509-c730-abb3311122ac"
      },
      "execution_count": null,
      "outputs": [
        {
          "output_type": "stream",
          "name": "stdout",
          "text": [
            "16 7 21\n",
            "3 8 26\n"
          ]
        }
      ]
    },
    {
      "cell_type": "code",
      "source": [
        "class MidA:\n",
        "  def __init__(self):\n",
        "    self.x = 5\n",
        "    self.y = 3\n",
        "    self.sum = 0\n",
        "  def methodA(self, x):\n",
        "    self.y = x + self.sum + self.x\n",
        "    self.sum = x + self.y\n",
        "    z = MidA()\n",
        "    z.sum = self.sum + self.y\n",
        "    self.methodB(z)\n",
        "    print(self.x, self.y, self.sum)\n",
        "  def methodB(self, a):\n",
        "    y = 4\n",
        "    a.x = self.x + self.sum\n",
        "    self.sum = a.x + a.y + y\n",
        "    print(a.x, a.y, a.sum)\n",
        "\n",
        "a = MidA()\n",
        "a.methodA(6)"
      ],
      "metadata": {
        "colab": {
          "base_uri": "https://localhost:8080/"
        },
        "id": "CtH9nTqrNfv9",
        "outputId": "3b20b524-e007-472d-9cf6-736282cb273f"
      },
      "execution_count": null,
      "outputs": [
        {
          "output_type": "stream",
          "name": "stdout",
          "text": [
            "22 3 28\n",
            "5 11 29\n"
          ]
        }
      ]
    },
    {
      "cell_type": "code",
      "source": [
        "class MidB:\n",
        "  def __init__(self):\n",
        "    self.x = 3\n",
        "    self.y = 0\n",
        "    self.sum = 5\n",
        "  def methodA(self, x):\n",
        "\n",
        "    self.y = self.sum + self.x + x\n",
        "    self.sum = x + self.y\n",
        "    d = MidB()\n",
        "    d.sum = self.sum + self.methodB(d)\n",
        "    print(self.x, self.y, self.sum)\n",
        "  def methodB(self, t, z=0):\n",
        "    y = 3\n",
        "    t.x = self.x + self.sum\n",
        "    self.sum = t.x + t.y + y\n",
        "    print(t.x, t.y, t.sum)\n",
        "    if z == 0:\n",
        "     return t.sum\n",
        "b=MidB()\n",
        "b.methodA(6)\n",
        "b.methodB(b,99)"
      ],
      "metadata": {
        "id": "oNgQIcImSDAO",
        "colab": {
          "base_uri": "https://localhost:8080/"
        },
        "outputId": "d7c96c4f-5e76-4943-dccb-cc380e73db44"
      },
      "execution_count": null,
      "outputs": [
        {
          "output_type": "stream",
          "name": "stdout",
          "text": [
            "23 0 5\n",
            "3 14 26\n",
            "29 14 46\n"
          ]
        }
      ]
    },
    {
      "cell_type": "markdown",
      "source": [
        "cse 111 practise"
      ],
      "metadata": {
        "id": "khnZTZM4_uxq"
      }
    },
    {
      "cell_type": "code",
      "source": [
        "#task 1\n",
        "class PlayerEarning:\n",
        "  def __init__(self,n):\n",
        "    self.name=n\n",
        "    self.total=0\n",
        "    self.bonus=0\n",
        "\n",
        "  def calculateTotal(self,earning,goal=None):\n",
        "    self.earning=earning\n",
        "    if goal!=None:\n",
        "      if goal>30:\n",
        "        self.bonus=(5/100)*self.earning+10000\n",
        "        self.total=self.bonus+self.earning\n",
        "      else:\n",
        "        self.bonus=(5/100)*self.earning\n",
        "        self.total=self.bonus+self.earning\n",
        "    else:\n",
        "        self.bonus=0\n",
        "        self.total=self.earning\n",
        "\n",
        "\n",
        "  def printDetails(self):\n",
        "    print(f\"\"\"Player Name: {self.name}\n",
        "Player Season Earning without bonus: {int(self.earning)}\n",
        "Bonus: {int(self.bonus)}\n",
        "Player Season Earning After Bonus: {int(self.total)}\n",
        "\"\"\")\n",
        "\n",
        "\n",
        "print(\"**********************\")\n",
        "player1 = PlayerEarning('Buffon')\n",
        "player1.calculateTotal(250000)\n",
        "player1.printDetails()\n",
        "\n",
        "print(\"\\n**********************\")\n",
        "player2 = PlayerEarning('Dybala')\n",
        "player2.calculateTotal(250000, 31)\n",
        "player2.printDetails()\n",
        "\n",
        "print(\"\\n**********************\")\n",
        "player3 = PlayerEarning('Cuadrado')\n",
        "player3.calculateTotal(250000, 20)\n",
        "player3.printDetails()\n"
      ],
      "metadata": {
        "id": "P6MC7KmBSDC-",
        "colab": {
          "base_uri": "https://localhost:8080/"
        },
        "outputId": "1bc6a78b-1bd6-4846-9666-4f6d1e37f945"
      },
      "execution_count": null,
      "outputs": [
        {
          "output_type": "stream",
          "name": "stdout",
          "text": [
            "**********************\n",
            "Player Name: Buffon\n",
            "Player Season Earning without bonus: 250000\n",
            "Bonus: 0\n",
            "Player Season Earning After Bonus: 250000\n",
            "\n",
            "\n",
            "**********************\n",
            "Player Name: Dybala\n",
            "Player Season Earning without bonus: 250000\n",
            "Bonus: 22500\n",
            "Player Season Earning After Bonus: 272500\n",
            "\n",
            "\n",
            "**********************\n",
            "Player Name: Cuadrado\n",
            "Player Season Earning without bonus: 250000\n",
            "Bonus: 12500\n",
            "Player Season Earning After Bonus: 262500\n",
            "\n"
          ]
        }
      ]
    },
    {
      "cell_type": "code",
      "source": [
        "#task2    incomplete\n",
        "class myList:\n",
        "  def __init__(self,*t):\n",
        "    self.total=0\n",
        "    self.l=list(t)\n",
        "    for i in t:\n",
        "      self.total+=i\n",
        "  def merge(self,*t):\n",
        "    self.mer=0\n",
        "    for i in t:\n",
        "      self.mer+=i\n",
        "\n",
        "  def sum(self):\n",
        "    for i in self.l:\n",
        "      self.total+=i\n",
        "    print('Sum:',self.total)\n",
        "\n",
        "  def average(self):\n",
        "    print('Average:',self.total/len(self.l))\n",
        "\n",
        "\n",
        "l1 =  myList(2,3,4,5,6) #you might need a list inside your class to store the values\n",
        "l1.sum()\n",
        "l1.merge(4,5,9)\n",
        "l1.sum()\n",
        "l1.average()\n",
        "print('-----------------------------')\n",
        "l2 =  myList()\n",
        "l2.average()\n",
        "l2.merge(1,2,4,8)\n",
        "l2.sum()\n"
      ],
      "metadata": {
        "id": "A1Vx-LLhSDFT",
        "colab": {
          "base_uri": "https://localhost:8080/",
          "height": 425
        },
        "outputId": "f8bad366-c029-468f-bb95-a80c06b22ae3"
      },
      "execution_count": null,
      "outputs": [
        {
          "output_type": "stream",
          "name": "stdout",
          "text": [
            "Sum: 40\n",
            "Sum: 78\n",
            "Average: 9.75\n",
            "-----------------------------\n"
          ]
        },
        {
          "output_type": "error",
          "ename": "ZeroDivisionError",
          "evalue": "ignored",
          "traceback": [
            "\u001b[0;31m---------------------------------------------------------------------------\u001b[0m",
            "\u001b[0;31mZeroDivisionError\u001b[0m                         Traceback (most recent call last)",
            "\u001b[0;32m<ipython-input-13-c4a4c3175dca>\u001b[0m in \u001b[0;36m<module>\u001b[0;34m\u001b[0m\n\u001b[1;32m     26\u001b[0m \u001b[0mprint\u001b[0m\u001b[0;34m(\u001b[0m\u001b[0;34m'-----------------------------'\u001b[0m\u001b[0;34m)\u001b[0m\u001b[0;34m\u001b[0m\u001b[0;34m\u001b[0m\u001b[0m\n\u001b[1;32m     27\u001b[0m \u001b[0ml2\u001b[0m \u001b[0;34m=\u001b[0m  \u001b[0mmyList\u001b[0m\u001b[0;34m(\u001b[0m\u001b[0;34m)\u001b[0m\u001b[0;34m\u001b[0m\u001b[0;34m\u001b[0m\u001b[0m\n\u001b[0;32m---> 28\u001b[0;31m \u001b[0ml2\u001b[0m\u001b[0;34m.\u001b[0m\u001b[0maverage\u001b[0m\u001b[0;34m(\u001b[0m\u001b[0;34m)\u001b[0m\u001b[0;34m\u001b[0m\u001b[0;34m\u001b[0m\u001b[0m\n\u001b[0m\u001b[1;32m     29\u001b[0m \u001b[0ml2\u001b[0m\u001b[0;34m.\u001b[0m\u001b[0mmerge\u001b[0m\u001b[0;34m(\u001b[0m\u001b[0;36m1\u001b[0m\u001b[0;34m,\u001b[0m\u001b[0;36m2\u001b[0m\u001b[0;34m,\u001b[0m\u001b[0;36m4\u001b[0m\u001b[0;34m,\u001b[0m\u001b[0;36m8\u001b[0m\u001b[0;34m)\u001b[0m\u001b[0;34m\u001b[0m\u001b[0;34m\u001b[0m\u001b[0m\n\u001b[1;32m     30\u001b[0m \u001b[0ml2\u001b[0m\u001b[0;34m.\u001b[0m\u001b[0msum\u001b[0m\u001b[0;34m(\u001b[0m\u001b[0;34m)\u001b[0m\u001b[0;34m\u001b[0m\u001b[0;34m\u001b[0m\u001b[0m\n",
            "\u001b[0;32m<ipython-input-13-c4a4c3175dca>\u001b[0m in \u001b[0;36maverage\u001b[0;34m(self)\u001b[0m\n\u001b[1;32m     16\u001b[0m \u001b[0;34m\u001b[0m\u001b[0m\n\u001b[1;32m     17\u001b[0m   \u001b[0;32mdef\u001b[0m \u001b[0maverage\u001b[0m\u001b[0;34m(\u001b[0m\u001b[0mself\u001b[0m\u001b[0;34m)\u001b[0m\u001b[0;34m:\u001b[0m\u001b[0;34m\u001b[0m\u001b[0;34m\u001b[0m\u001b[0m\n\u001b[0;32m---> 18\u001b[0;31m     \u001b[0mprint\u001b[0m\u001b[0;34m(\u001b[0m\u001b[0;34m'Average:'\u001b[0m\u001b[0;34m,\u001b[0m\u001b[0mself\u001b[0m\u001b[0;34m.\u001b[0m\u001b[0mtotal\u001b[0m\u001b[0;34m/\u001b[0m\u001b[0mlen\u001b[0m\u001b[0;34m(\u001b[0m\u001b[0mself\u001b[0m\u001b[0;34m.\u001b[0m\u001b[0ml\u001b[0m\u001b[0;34m)\u001b[0m\u001b[0;34m)\u001b[0m\u001b[0;34m\u001b[0m\u001b[0;34m\u001b[0m\u001b[0m\n\u001b[0m\u001b[1;32m     19\u001b[0m \u001b[0;34m\u001b[0m\u001b[0m\n\u001b[1;32m     20\u001b[0m \u001b[0;34m\u001b[0m\u001b[0m\n",
            "\u001b[0;31mZeroDivisionError\u001b[0m: division by zero"
          ]
        }
      ]
    },
    {
      "cell_type": "code",
      "source": [
        "#task3\n",
        "class Bird:\n",
        "  def __init__(self,name,fly=False,typee='Flightless Birds'):\n",
        "    self.name=name\n",
        "    self.canFly=fly\n",
        "    self.Type=typee\n",
        "\n",
        "  def fly(self):\n",
        "    if self.canFly==True:\n",
        "      print(self.name,'can fly')\n",
        "    else:\n",
        "      print(self.name,'can not fly')\n",
        "\n",
        "  def setType(self,a):\n",
        "    self.Type=a\n",
        "  def printDetail(self):\n",
        "    print(f\"\"\"Name: {self.name}\n",
        "Type: {self.Type}\n",
        "\"\"\")\n",
        "\n",
        "\n",
        "\n",
        "\n",
        "ostrich = Bird('Ostrich')\n",
        "duck = Bird(\"Duck\", True)\n",
        "owl = Bird('Owl', True)\n",
        "print('###########################')\n",
        "ostrich.fly()\n",
        "duck.fly()\n",
        "owl.fly()\n",
        "duck.setType('Water Birds')\n",
        "owl.setType('Birds of Prey')\n",
        "print('=========================')\n",
        "ostrich.printDetail()\n",
        "print('=========================')\n",
        "duck.printDetail()\n",
        "print('=========================')\n",
        "owl.printDetail()\n"
      ],
      "metadata": {
        "id": "bpDQ4gQySDHD",
        "colab": {
          "base_uri": "https://localhost:8080/"
        },
        "outputId": "e5bce13c-1c21-46e4-d4b7-3bcfe49e5b15"
      },
      "execution_count": null,
      "outputs": [
        {
          "output_type": "stream",
          "name": "stdout",
          "text": [
            "###########################\n",
            "Ostrich can not fly\n",
            "Duck can fly\n",
            "Owl can fly\n",
            "=========================\n",
            "Name: Ostrich\n",
            "Type: Flightless Birds\n",
            "\n",
            "=========================\n",
            "Name: Duck\n",
            "Type: Water Birds\n",
            "\n",
            "=========================\n",
            "Name: Owl\n",
            "Type: Birds of Prey\n",
            "\n"
          ]
        }
      ]
    },
    {
      "cell_type": "code",
      "source": [
        "#task4\n",
        "class Account:\n",
        "  count=0\n",
        "\n",
        "  def __init__(self,n,a,o,c):\n",
        "    Account.count+=1\n",
        "    self.count=0\n",
        "    self.name=n\n",
        "    self.age=a\n",
        "    self.ocup=o\n",
        "    self.money=c\n",
        "    self.count+=1\n",
        "\n",
        "  def addMoney(self,a):\n",
        "    self.money+=a\n",
        "\n",
        "  def withdrawMoney(self,a):\n",
        "    if a<=self.money:\n",
        "      self.money-=a\n",
        "\n",
        "  def printDetails(self):\n",
        "    print(f\"\"\"Name: {self.name}\n",
        "Age: {self.age}\n",
        "Occupation:  {self.ocup}\n",
        "Total Amount:  {self.money}\"\"\")\n",
        "\n",
        "\n",
        "\n",
        "\n",
        "print('No of account holders:', Account.count)\n",
        "print(\"=========================\")\n",
        "p1 = Account(\"Abdul\", 45, \"Service Holder\", 500000)\n",
        "p1.addMoney(300000)\n",
        "p1.printDetails()\n",
        "print(\"=========================\")\n",
        "p2 = Account(\"Rahim\", 55, \"Businessman\", 700000)\n",
        "p2.withdrawMoney(700000)\n",
        "p2.printDetails()\n",
        "print(\"=========================\")\n",
        "p3 = Account(\"Ashraf\", 62, \"Govt. Officer\", 200000)\n",
        "p3.withdrawMoney(250000)\n",
        "p3.printDetails()\n",
        "print(\"=========================\")\n",
        "print('No of account holders:', Account.count)\n"
      ],
      "metadata": {
        "colab": {
          "base_uri": "https://localhost:8080/"
        },
        "id": "BHq9YSA5e8ah",
        "outputId": "439e64f2-b585-479d-fa2a-e6f0307d82f1"
      },
      "execution_count": null,
      "outputs": [
        {
          "output_type": "stream",
          "name": "stdout",
          "text": [
            "No of account holders: 0\n",
            "=========================\n",
            "Name: Abdul\n",
            "Age: 45\n",
            "Occupation:  Service Holder\n",
            "Total Amount:  800000\n",
            "=========================\n",
            "Name: Rahim\n",
            "Age: 55\n",
            "Occupation:  Businessman\n",
            "Total Amount:  0\n",
            "=========================\n",
            "Name: Ashraf\n",
            "Age: 62\n",
            "Occupation:  Govt. Officer\n",
            "Total Amount:  200000\n",
            "=========================\n",
            "No of account holders: 3\n"
          ]
        }
      ]
    },
    {
      "cell_type": "code",
      "source": [
        "#task5\n",
        "class Smartphone:\n",
        "  def __init__(self,name=None):\n",
        "    self.name=name\n",
        "    self.d={}\n",
        "\n",
        "  def addFeature(self,k,v):\n",
        "\n",
        "    if self.name==None:\n",
        "      print('Feature can not be added without phone name')\n",
        "\n",
        "    else:\n",
        "\n",
        "      if k in self.d:\n",
        "        self.d[k].append(v)\n",
        "      else:\n",
        "        self.d[k]=[v]\n",
        "\n",
        "  def setName(self,a):\n",
        "    self.name=a\n",
        "  def printDetail(self):\n",
        "    print(f\"\"\"Phone Name: {self.name}\"\"\")\n",
        "    for i in self.d:\n",
        "      p=self.d[i]\n",
        "\n",
        "      print(f'{i}: {\", \".join(p)}')\n",
        "s1 = Smartphone()\n",
        "print(\"=================================\")\n",
        "s1.addFeature('Display', '6.1 inch')\n",
        "print(\"=================================\")\n",
        "s1.setName('Samsung Note 20')\n",
        "s1.addFeature('Display', '6.1 inch')\n",
        "s1.printDetail()\n",
        "print(\"=================================\")\n",
        "s2 = Smartphone('Iphone 12 Pro')\n",
        "s2.addFeature('Display', '6.2 inch')\n",
        "s2.addFeature('Ram', '6 GB')\n",
        "print(\"=================================\")\n",
        "s2.printDetail()\n",
        "s2.addFeature('Display', 'Amoled panel')\n",
        "s2.addFeature('Ram', 'DDR5')\n",
        "print(\"=================================\")\n",
        "s2.printDetail()\n",
        "print(\"=================================\")"
      ],
      "metadata": {
        "colab": {
          "base_uri": "https://localhost:8080/"
        },
        "id": "ci3Q0rzke8XI",
        "outputId": "033acae0-81c1-42d2-cb46-01633a166c64"
      },
      "execution_count": null,
      "outputs": [
        {
          "output_type": "stream",
          "name": "stdout",
          "text": [
            "=================================\n",
            "Feature can not be added without phone name\n",
            "=================================\n",
            "Phone Name: Samsung Note 20\n",
            "Display: 6.1 inch\n",
            "=================================\n",
            "=================================\n",
            "Phone Name: Iphone 12 Pro\n",
            "Display: 6.2 inch\n",
            "Ram: 6 GB\n",
            "=================================\n",
            "Phone Name: Iphone 12 Pro\n",
            "Display: 6.2 inch, Amoled panel\n",
            "Ram: 6 GB, DDR5\n",
            "=================================\n"
          ]
        }
      ]
    },
    {
      "cell_type": "code",
      "source": [
        "#task 6\n",
        "class Student:\n",
        "  def __init__(self,name,dept):\n",
        "    self.name=name\n",
        "    self.dept=dept\n",
        "    pass\n",
        "\n",
        "\n",
        "s1 = Student(\"Naruto\", \"CSE\")\n",
        "print('----------------------')\n",
        "s1.individualInfo()\n",
        "print('#############################')\n",
        "s1.totalInfo()\n",
        "print('============================')\n",
        "\n",
        "\n",
        "s2 = Student(\"Sakura\", \"BBA\")\n",
        "print('----------------------')\n",
        "s2.individualInfo()\n",
        "print('#############################')\n",
        "s2.totalInfo()\n",
        "print('============================')\n",
        "\n",
        "\n",
        "s3 = Student(\"Shikamaru\", \"CSE\")\n",
        "print('----------------------')\n",
        "s3.individualInfo()\n",
        "print('#############################')\n",
        "s3.totalInfo()\n",
        "print('============================')\n",
        "\n",
        "\n",
        "s4 = Student(\"Deidara\", \"BBA\")\n",
        "print('----------------------')\n",
        "s4.individualInfo()\n",
        "print('#############################')\n",
        "s4.totalInfo()\n"
      ],
      "metadata": {
        "colab": {
          "base_uri": "https://localhost:8080/"
        },
        "id": "VQ-YXwGQe8VJ",
        "outputId": "82db3602-442b-47a8-a9dd-f6f0119a3ac3"
      },
      "execution_count": null,
      "outputs": [
        {
          "output_type": "stream",
          "name": "stdout",
          "text": [
            "{5: ['abc', 6]}\n"
          ]
        }
      ]
    },
    {
      "cell_type": "code",
      "source": [],
      "metadata": {
        "id": "Et4cHppCe8Rp"
      },
      "execution_count": null,
      "outputs": []
    },
    {
      "cell_type": "code",
      "source": [],
      "metadata": {
        "id": "M_p9KIFxe8P6"
      },
      "execution_count": null,
      "outputs": []
    },
    {
      "cell_type": "code",
      "source": [],
      "metadata": {
        "id": "_MGJtq47e8EM"
      },
      "execution_count": null,
      "outputs": []
    }
  ]
}